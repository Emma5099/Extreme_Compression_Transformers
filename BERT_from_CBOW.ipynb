{
  "cells": [
    {
      "cell_type": "code",
      "source": [
        "!pip install transformers\n",
        "!pip install pytorch-nlp"
      ],
      "metadata": {
        "colab": {
          "base_uri": "https://localhost:8080/"
        },
        "id": "e0W8UazwzRx1",
        "outputId": "8fff213c-6c1c-44dc-8c62-09de5c4bb98c"
      },
      "execution_count": 61,
      "outputs": [
        {
          "output_type": "stream",
          "name": "stdout",
          "text": [
            "Looking in indexes: https://pypi.org/simple, https://us-python.pkg.dev/colab-wheels/public/simple/\n",
            "Requirement already satisfied: transformers in /usr/local/lib/python3.9/dist-packages (4.27.2)\n",
            "Requirement already satisfied: requests in /usr/local/lib/python3.9/dist-packages (from transformers) (2.27.1)\n",
            "Requirement already satisfied: regex!=2019.12.17 in /usr/local/lib/python3.9/dist-packages (from transformers) (2022.10.31)\n",
            "Requirement already satisfied: numpy>=1.17 in /usr/local/lib/python3.9/dist-packages (from transformers) (1.22.4)\n",
            "Requirement already satisfied: huggingface-hub<1.0,>=0.11.0 in /usr/local/lib/python3.9/dist-packages (from transformers) (0.13.3)\n",
            "Requirement already satisfied: tqdm>=4.27 in /usr/local/lib/python3.9/dist-packages (from transformers) (4.65.0)\n",
            "Requirement already satisfied: filelock in /usr/local/lib/python3.9/dist-packages (from transformers) (3.10.0)\n",
            "Requirement already satisfied: tokenizers!=0.11.3,<0.14,>=0.11.1 in /usr/local/lib/python3.9/dist-packages (from transformers) (0.13.2)\n",
            "Requirement already satisfied: packaging>=20.0 in /usr/local/lib/python3.9/dist-packages (from transformers) (23.0)\n",
            "Requirement already satisfied: pyyaml>=5.1 in /usr/local/lib/python3.9/dist-packages (from transformers) (6.0)\n",
            "Requirement already satisfied: typing-extensions>=3.7.4.3 in /usr/local/lib/python3.9/dist-packages (from huggingface-hub<1.0,>=0.11.0->transformers) (4.5.0)\n",
            "Requirement already satisfied: charset-normalizer~=2.0.0 in /usr/local/lib/python3.9/dist-packages (from requests->transformers) (2.0.12)\n",
            "Requirement already satisfied: certifi>=2017.4.17 in /usr/local/lib/python3.9/dist-packages (from requests->transformers) (2022.12.7)\n",
            "Requirement already satisfied: urllib3<1.27,>=1.21.1 in /usr/local/lib/python3.9/dist-packages (from requests->transformers) (1.26.15)\n",
            "Requirement already satisfied: idna<4,>=2.5 in /usr/local/lib/python3.9/dist-packages (from requests->transformers) (3.4)\n",
            "Looking in indexes: https://pypi.org/simple, https://us-python.pkg.dev/colab-wheels/public/simple/\n",
            "Requirement already satisfied: pytorch-nlp in /usr/local/lib/python3.9/dist-packages (0.5.0)\n",
            "Requirement already satisfied: numpy in /usr/local/lib/python3.9/dist-packages (from pytorch-nlp) (1.22.4)\n",
            "Requirement already satisfied: tqdm in /usr/local/lib/python3.9/dist-packages (from pytorch-nlp) (4.65.0)\n"
          ]
        }
      ]
    },
    {
      "cell_type": "markdown",
      "metadata": {
        "id": "OpuPAtLlFwSB"
      },
      "source": [
        "Install the Transformers, Datasets, and Evaluate libraries to run this notebook."
      ]
    },
    {
      "cell_type": "code",
      "execution_count": 62,
      "metadata": {
        "id": "RMPFCuCQFwSG"
      },
      "outputs": [],
      "source": [
        "## Librairies\n",
        "\n",
        "from transformers import AutoModelForMaskedLM\n",
        "from transformers import AutoTokenizer\n",
        "import numpy as np\n",
        "import pandas as pd\n",
        "import torch\n",
        "import torch.nn as nn\n",
        "import torch.nn.functional as F\n",
        "import os\n",
        "import copy\n",
        "import random\n",
        "from tqdm import tqdm\n",
        "from matplotlib import pyplot as plt\n",
        "from torch.utils.data import Dataset, DataLoader\n",
        "from torchnlp.datasets import imdb_dataset\n",
        "import matplotlib.ticker as mtick\n",
        "\n"
      ]
    },
    {
      "cell_type": "code",
      "source": [
        "device = 'cuda' \n"
      ],
      "metadata": {
        "id": "DKHeXvrUxyfw"
      },
      "execution_count": 63,
      "outputs": []
    },
    {
      "cell_type": "code",
      "execution_count": 64,
      "metadata": {
        "colab": {
          "base_uri": "https://localhost:8080/"
        },
        "id": "sv2xl4aMHJ1o",
        "outputId": "98fc59a9-5b2a-4210-d555-c273e86394a6"
      },
      "outputs": [
        {
          "output_type": "stream",
          "name": "stderr",
          "text": [
            "Some weights of the model checkpoint at bert-base-uncased were not used when initializing BertForMaskedLM: ['cls.seq_relationship.bias', 'cls.seq_relationship.weight']\n",
            "- This IS expected if you are initializing BertForMaskedLM from the checkpoint of a model trained on another task or with another architecture (e.g. initializing a BertForSequenceClassification model from a BertForPreTraining model).\n",
            "- This IS NOT expected if you are initializing BertForMaskedLM from the checkpoint of a model that you expect to be exactly identical (initializing a BertForSequenceClassification model from a BertForSequenceClassification model).\n"
          ]
        }
      ],
      "source": [
        "## Paramètres\n",
        "\n",
        "MAX_SEQ_LEN = 512\n",
        "LENGTH_BATCH=1000\n",
        "BATCH_SIZE=10\n",
        "TOP=5 \n",
        "epochs=20\n",
        "lr=0.001\n",
        "\n",
        "model = AutoModelForMaskedLM.from_pretrained(\"bert-base-uncased\")\n",
        "tokenizer = AutoTokenizer.from_pretrained(\"bert-base-uncased\")"
      ]
    },
    {
      "cell_type": "code",
      "execution_count": 65,
      "metadata": {
        "id": "gswaii47HNrn"
      },
      "outputs": [],
      "source": [
        "## Fonctions utiles\n",
        "\n",
        "\n",
        "# Masquage de 15% d'un texte\n",
        "def Masks(Tokens):\n",
        "  L_indice=torch.zeros_like(Tokens).to(device)\n",
        "  tokenised_new=copy.deepcopy(Test_tokenised)## Masques \n",
        "\n",
        "  for i in range (len(Tokens)):\n",
        "      for proba in range (int(0.15 * float(Tokens[i].tolist().index(102)))):\n",
        "          mask_indice=random.randrange(start=1, stop=Tokens[i].tolist().index(102)-1)\n",
        "          tokenised_new[\"input_ids\"][i][mask_indice]=103\n",
        "          L_indice[i][mask_indice]=1\n",
        "  return(tokenised_new,Input_tokenised,L_indice)\n",
        "\n",
        "# Création Matrice Pseudo-Attention (prend en compte les mots voisins à poids égals)\n",
        "def matrice_pseudo_attention_cbow(weight,L_size):\n",
        "    att=np.c_[np.zeros(L_size) ,weight*np.identity(L_size)[:,:-1] ] + weight*np.identity(L_size) + weight*np.c_[np.identity(L_size)[:,1:], np.zeros(L_size) ] \n",
        "    # Traiter cas windowsize pair (rajouter une Identité sur la droite)\n",
        "    return(torch.from_numpy(att))\n",
        "\n",
        "\n",
        "# Calcul de l'accuracy\n",
        "def accuracy_score(Y_model,verite_terrain):\n",
        "    score=0\n",
        "    for i in range (len(Y_model)): #pour chaque mot masqué\n",
        "        y_top=(-Y_model[i]).argsort()[:TOP]  #les mots les plus probables selon Y\n",
        "        if verite_terrain[i] in y_top:\n",
        "            score+=1\n",
        "    return(score/len(Y_model))\n",
        "\n"
      ]
    },
    {
      "cell_type": "code",
      "execution_count": 66,
      "metadata": {
        "id": "AfkFJAGrI0CF"
      },
      "outputs": [],
      "source": [
        "# Load the imdb training dataset\n",
        "train= imdb_dataset(train=True)\n",
        "test= imdb_dataset(test=True)\n",
        "\n",
        "Input_sentences=[]\n",
        "Test_sentences=[]\n",
        "for i in range(len(train)):\n",
        "    Input_sentences.append(list(train[i].values())[0])\n",
        "    Test_sentences.append(list(test[i].values())[0])\n",
        "\n",
        "Input_sentences=Input_sentences[:LENGTH_BATCH]\n",
        "Test_sentences=Test_sentences[:LENGTH_BATCH]"
      ]
    },
    {
      "cell_type": "code",
      "source": [
        "## Tokeniser\n",
        "\n",
        "Input_tokenised=tokenizer.batch_encode_plus(Input_sentences,return_tensors=\"pt\",padding=\"max_length\", max_length=MAX_SEQ_LEN, truncation=True).to(device)\n",
        "Test_tokenised=tokenizer.batch_encode_plus(Test_sentences,return_tensors=\"pt\",padding=\"max_length\", max_length=MAX_SEQ_LEN, truncation=True).to(device)"
      ],
      "metadata": {
        "id": "Yzt3pOE65kN8"
      },
      "execution_count": 67,
      "outputs": []
    },
    {
      "cell_type": "code",
      "execution_count": 68,
      "metadata": {
        "id": "U15UBNB-HQEH"
      },
      "outputs": [],
      "source": [
        "## Masking\n",
        "\n",
        "Input_tokenised_new,Input_tokenised,L_indice=Masks(Input_tokenised[\"input_ids\"])\n",
        "Test_tokenised_new,Input_tokenised,L_indice2=Masks(Test_tokenised[\"input_ids\"])"
      ]
    },
    {
      "cell_type": "code",
      "execution_count": 69,
      "metadata": {
        "id": "66jky5fQHRuk"
      },
      "outputs": [],
      "source": [
        "## Modèle\n",
        "\n",
        "class MLM(nn.Module):\n",
        "    def __init__(self,bert):\n",
        "        super(MLM, self).__init__()\n",
        "\n",
        "        self.embedding= nn.Embedding(30522,768)\n",
        "\n",
        "        self.v = nn.Linear(768, 30522,bias = False)\n",
        "\n",
        "        self.v.weight = torch.nn.Parameter(model.bert.embeddings.word_embeddings.weight,requires_grad=True)\n",
        "\n",
        "        #trouver comment faire du parameter sharing\n",
        "\n",
        "    def forward(self, tokens):\n",
        "        emb_init = self.embedding(tokens) #Premiere représentation des tokens\n",
        "        A=matrice_pseudo_attention_cbow(1,emb_init.shape[1]).to(device)\n",
        "        emb_init_context=torch.matmul(A.float(),emb_init)\n",
        "        return self.v(emb_init_context)\n",
        "\n",
        "\n",
        "## Création du modèle (avec paramètres)\n",
        "\n",
        "cbow=MLM(model)\n",
        "\n",
        "loss_function = nn.MSELoss()\n",
        "loss_function2= nn.MSELoss()\n",
        "optimizer = torch.optim.SGD(cbow.parameters(), lr )\n",
        "scheduler = torch.optim.lr_scheduler.ReduceLROnPlateau(optimizer, 'min')"
      ]
    },
    {
      "cell_type": "code",
      "execution_count": 70,
      "metadata": {
        "id": "OksrLYTIHW3J"
      },
      "outputs": [],
      "source": [
        "## Batchs des données \n",
        "\n",
        "class TextDataset(Dataset):\n",
        "\n",
        "    def __init__(self, X, M, torch_verite_terrain):\n",
        "        self.inputs = X\n",
        "        self.masques = M\n",
        "        self.verite_terrain=torch_verite_terrain\n",
        "\n",
        "    def __len__(self):\n",
        "        return len(self.inputs)\n",
        "    \n",
        "    def __getitem__(self, index):\n",
        "        return (self.inputs[index],self.masques[index],self.verite_terrain[index])\n",
        "    \n",
        "\n",
        "#Création des batchs\n",
        "\n",
        "data_train= TextDataset( \n",
        "    Input_tokenised_new[\"input_ids\"],\n",
        "    L_indice,\n",
        "    Input_tokenised[\"input_ids\"]\n",
        ")\n",
        "\n",
        "\n",
        "data_test= TextDataset( \n",
        "    Test_tokenised_new[\"input_ids\"],\n",
        "    L_indice2,\n",
        "    Test_tokenised[\"input_ids\"]\n",
        ")\n",
        "\n",
        "train_loader = DataLoader(data_train,batch_size=BATCH_SIZE,shuffle=False)\n",
        "test_loader = DataLoader(data_test,batch_size=BATCH_SIZE,shuffle=False)\n"
      ]
    },
    {
      "cell_type": "code",
      "execution_count": null,
      "metadata": {
        "id": "7qEj7OGKHZKe",
        "colab": {
          "base_uri": "https://localhost:8080/"
        },
        "outputId": "3e6560f5-b9fe-4dac-e022-1869dec4a087"
      },
      "outputs": [
        {
          "output_type": "stream",
          "name": "stderr",
          "text": [
            "100%|██████████| 100/100 [01:10<00:00,  1.41it/s]\n"
          ]
        },
        {
          "output_type": "stream",
          "name": "stdout",
          "text": [
            "Precision train: 4.01% \n",
            "Precision test: 6.26% \n"
          ]
        },
        {
          "output_type": "stream",
          "name": "stderr",
          "text": [
            "100%|██████████| 100/100 [01:10<00:00,  1.42it/s]\n"
          ]
        },
        {
          "output_type": "stream",
          "name": "stdout",
          "text": [
            "Precision train: 4.01% \n",
            "Precision test: 6.26% \n"
          ]
        },
        {
          "output_type": "stream",
          "name": "stderr",
          "text": [
            "100%|██████████| 100/100 [01:09<00:00,  1.44it/s]\n"
          ]
        },
        {
          "output_type": "stream",
          "name": "stdout",
          "text": [
            "Precision train: 4.01% \n",
            "Precision test: 6.05% \n"
          ]
        },
        {
          "output_type": "stream",
          "name": "stderr",
          "text": [
            " 49%|████▉     | 49/100 [00:33<00:35,  1.44it/s]"
          ]
        }
      ],
      "source": [
        "## Training\n",
        "\n",
        "cbow.to(device)\n",
        "model.to(device)\n",
        "losses=[]\n",
        "total_accuracy_train=[]\n",
        "total_accuracy_test=[]\n",
        "\n",
        "\n",
        "for epoch in range(epochs):\n",
        "    cbow.zero_grad()\n",
        "    total_loss = 0  \n",
        "\n",
        "    for batch in tqdm((train_loader)):\n",
        "\n",
        "        X,M,verite_terrain = batch\n",
        "\n",
        "        with torch.no_grad():\n",
        "            Y_bert=model(X).logits.squeeze()\n",
        "        \n",
        "        Y_model=cbow(X)\n",
        "        \n",
        "        loss_real=loss_function(Y_model,F.one_hot(verite_terrain , num_classes=30522).to(torch.float32))\n",
        "        loss_bert=loss_function2(Y_model[M==1],Y_bert[M==1])\n",
        "        loss = loss_bert + loss_real\n",
        "        total_loss+=loss_bert.item() + loss_real.item()\n",
        "\n",
        "        accuracy_train=accuracy_score(Y_model[M==1],verite_terrain[M==1])\n",
        "\n",
        "        loss.backward()\n",
        "        optimizer.step()\n",
        "    \n",
        "           \n",
        "    for batch_test in (test_loader):\n",
        "        X_test,M_test,verite_terrain_test = batch_test\n",
        "        Y_model_test=cbow(X_test)\n",
        "        accuracy_test=accuracy_score(Y_model_test[M_test==1],verite_terrain_test[M_test==1])\n",
        "\n",
        "\n",
        "    print(\"Precision train: \" + str(round(accuracy_train*100.,2)) + \"% \")\n",
        "    print(\"Precision test: \" + str(round(accuracy_test*100.,2)) + \"% \") \n",
        " \n",
        "    losses.append(total_loss)\n",
        "    total_accuracy_train.append(accuracy_train)\n",
        "    total_accuracy_test.append(accuracy_test)\n"
      ]
    },
    {
      "cell_type": "code",
      "execution_count": 75,
      "metadata": {
        "id": "fGDdDJJyHh0o",
        "colab": {
          "base_uri": "https://localhost:8080/"
        },
        "outputId": "52f5a39f-cee1-48f6-84df-9c450d576171"
      },
      "outputs": [
        {
          "output_type": "stream",
          "name": "stdout",
          "text": [
            "Precision finale de 1.34% \n"
          ]
        }
      ],
      "source": [
        "print(\"Precision finale de \" + str(round(accuracy_train*100.,2)) + \"% \")"
      ]
    },
    {
      "cell_type": "code",
      "source": [
        "print(\"Precision finale de \" + str(round(accuracy_test*100.,2)) + \"% \")"
      ],
      "metadata": {
        "colab": {
          "base_uri": "https://localhost:8080/"
        },
        "id": "gXFM7FnpHnv9",
        "outputId": "dbe42943-57ea-44f1-f0fb-b535fcd6e539"
      },
      "execution_count": 76,
      "outputs": [
        {
          "output_type": "stream",
          "name": "stdout",
          "text": [
            "Precision finale de 13.04% \n"
          ]
        }
      ]
    },
    {
      "cell_type": "code",
      "execution_count": 77,
      "metadata": {
        "id": "pOQcRIY4cAeU",
        "colab": {
          "base_uri": "https://localhost:8080/",
          "height": 313
        },
        "outputId": "21a94c9b-2536-428f-de63-235ad75019cb"
      },
      "outputs": [
        {
          "output_type": "execute_result",
          "data": {
            "text/plain": [
              "Text(0, 0.5, 'Accuracy (en %)')"
            ]
          },
          "metadata": {},
          "execution_count": 77
        },
        {
          "output_type": "display_data",
          "data": {
            "text/plain": [
              "<Figure size 432x288 with 1 Axes>"
            ],
            "image/png": "[encoded data removed]"
          },
          "metadata": {
            "needs_background": "light"
          }
        }
      ],
      "source": [
        "## Evolution de l'accuracy train\n",
        "\n",
        "plt.figure()\n",
        "plt.plot(total_accuracy_train*100)\n",
        "plt.title('Accuracy train')\n",
        "plt.xlabel(\"Nombres d'époques\")\n",
        "plt.ylabel(\"Accuracy (en %)\")\n"
      ]
    },
    {
      "cell_type": "code",
      "source": [
        "## Evolution de l'accuracy test\n",
        "\n",
        "plt.figure()\n",
        "plt.plot(total_accuracy_test*100)\n",
        "plt.title('Accuracy train')\n",
        "plt.xlabel(\"Nombres d'époques\")\n",
        "plt.ylabel(\"Accuracy (en %)\")"
      ],
      "metadata": {
        "id": "6YlE0NnoGoOu"
      },
      "execution_count": null,
      "outputs": []
    },
    {
      "cell_type": "code",
      "execution_count": null,
      "metadata": {
        "id": "ryHWMscicCNA"
      },
      "outputs": [],
      "source": [
        "## Evolution de la fonction de cout\n",
        "\n",
        "plt.figure()\n",
        "plt.plot(losses)\n",
        "plt.title('Loss fonction')\n",
        "plt.xlabel(\"Nombres d'époques\")\n",
        "plt.ylabel(\"Mean square error\")\n"
      ]
    },
    {
      "cell_type": "code",
      "execution_count": null,
      "metadata": {
        "id": "B4lsosS4b-X-"
      },
      "outputs": [],
      "source": [
        "## Création du dossier de sauvegarde\n",
        "\n",
        "Nom='CBOW_initial'\n",
        "\n",
        "Dossier=os.path.join('Saves/',Nom)\n",
        "if not os.path.exists(Dossier):\n",
        "    os.makedirs(Dossier)\n",
        "\n",
        "## Sauvegardes des paramètres \n",
        "\n",
        "nbr_parameters= sum([np.prod(p.size()) for p in cbow.parameters()])\n",
        "\n",
        "parameters=np.array([[nbr_parameters],\n",
        "                     [MLM(model)],\n",
        "                     [ str(round(score*100.,2)) + \"% \"],\n",
        "                    [epochs],\n",
        "                    [lr]])\n",
        "\n",
        "lignes_param = ['Nombres de Paramètres: ', 'Model', 'accuracy','Epoques: ','Learning rate: ']\n",
        "\n",
        "param_df = pd.DataFrame(data = parameters,index = lignes_param)\n",
        "\n",
        "param_df.to_csv(Dossier + '/Paramètres' +str(Nom)  + '.csv',sep =';')\n",
        "\n",
        "\n",
        "plt.plot(total_accuracy_train*100)\n",
        "plt.savefig(Dossier +'/' + \"Accuracy_train\" + str(Nom) + \".png\")\n",
        "plt.plot(total_accuracy_test*100)\n",
        "plt.savefig(Dossier +'/' + \"Accuracy_test\" + str(Nom) + \".png\")\n",
        "\n",
        "plt.plot(losses)\n",
        "plt.savefig(Dossier +'/' + \"LossFonction_\" + str(Nom) + \".png\")\n"
      ]
    }
  ],
  "metadata": {
    "colab": {
      "provenance": []
    },
    "gpuClass": "standard",
    "kernelspec": {
      "display_name": "Python 3",
      "name": "python3"
    },
    "language_info": {
      "name": "python"
    },
    "accelerator": "GPU"
  },
  "nbformat": 4,
  "nbformat_minor": 0
}