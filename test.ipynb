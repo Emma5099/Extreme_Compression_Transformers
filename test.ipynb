{
 "cells": [
  {
   "cell_type": "code",
   "execution_count": 11,
   "metadata": {},
   "outputs": [
    {
     "name": "stdout",
     "output_type": "stream",
     "text": [
      "[[1. 1. 1. 1. 1. 0. 0. 0. 0. 0.]\n",
      " [1. 1. 1. 1. 1. 1. 0. 0. 0. 0.]\n",
      " [0. 1. 1. 1. 1. 1. 1. 0. 0. 0.]\n",
      " [0. 0. 1. 1. 1. 1. 1. 1. 0. 0.]\n",
      " [0. 0. 0. 1. 1. 1. 1. 1. 1. 0.]\n",
      " [0. 0. 0. 0. 1. 1. 1. 1. 1. 1.]\n",
      " [0. 0. 0. 0. 0. 1. 1. 1. 1. 1.]\n",
      " [0. 0. 0. 0. 0. 0. 1. 1. 1. 1.]\n",
      " [0. 0. 0. 0. 0. 0. 0. 1. 1. 1.]\n",
      " [0. 0. 0. 0. 0. 0. 0. 0. 1. 1.]]\n"
     ]
    }
   ],
   "source": [
    "import numpy as np\n",
    "L_size=10\n",
    "weight=1\n",
    "\n",
    "window_size1=np.c_[np.zeros(L_size) ,weight*np.identity(L_size)[:,:-1] ] + weight*np.identity(L_size) + weight*np.c_[np.identity(L_size)[:,1:], np.zeros(L_size) ]\n",
    "window_size2=window_size1+np.c_[np.zeros(L_size),np.c_[np.zeros(L_size),np.identity(L_size)[:,:-2]]]\n",
    "window_size3=window_size2 + np.c_[np.zeros(L_size),np.c_[np.zeros(L_size),np.c_[np.zeros(L_size),np.identity(L_size)[:,:-3]]]]\n",
    "window_size4=window_size3 + np.c_[np.zeros(L_size),np.c_[np.zeros(L_size),np.c_[np.zeros(L_size),np.c_[np.zeros(L_size),np.identity(L_size)[:,:-4]]]]]\n",
    "\n",
    "print(window_size2)"
   ]
  },
  {
   "cell_type": "code",
   "execution_count": null,
   "metadata": {},
   "outputs": [],
   "source": []
  }
 ],
 "metadata": {
  "kernelspec": {
   "display_name": "base",
   "language": "python",
   "name": "python3"
  },
  "language_info": {
   "codemirror_mode": {
    "name": "ipython",
    "version": 3
   },
   "file_extension": ".py",
   "mimetype": "text/x-python",
   "name": "python",
   "nbconvert_exporter": "python",
   "pygments_lexer": "ipython3",
   "version": "3.9.13"
  },
  "orig_nbformat": 4
 },
 "nbformat": 4,
 "nbformat_minor": 2
}
